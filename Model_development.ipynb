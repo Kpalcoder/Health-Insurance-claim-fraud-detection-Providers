{
  "cells": [
    {
      "cell_type": "code",
      "execution_count": 1,
      "metadata": {
        "id": "9QmfOo6-W_cF"
      },
      "outputs": [],
      "source": [
        "import numpy as np\n",
        "import pandas as pd"
      ]
    },
    {
      "cell_type": "markdown",
      "source": [
        "Load the Feature data set"
      ],
      "metadata": {
        "id": "nrGH_FgZFDN5"
      }
    },
    {
      "cell_type": "code",
      "execution_count": 2,
      "metadata": {
        "id": "Bo06v964YqmX"
      },
      "outputs": [],
      "source": [
        "train_iobp_df=pd.read_csv('/content/train_iobp_df1.csv')"
      ]
    },
    {
      "cell_type": "code",
      "execution_count": 3,
      "metadata": {
        "id": "U0HvLrzwaO52"
      },
      "outputs": [],
      "source": [
        "# droping duplicates row\n",
        "train_iobp_df.drop_duplicates(inplace=True)"
      ]
    },
    {
      "cell_type": "markdown",
      "source": [
        "Split into X and Y"
      ],
      "metadata": {
        "id": "l69W6GiwFKFh"
      }
    },
    {
      "cell_type": "code",
      "execution_count": 4,
      "metadata": {
        "id": "LHc2hIQcZPRe"
      },
      "outputs": [],
      "source": [
        "X=train_iobp_df.drop(columns=['Provider', 'PotentialFraud'],axis=1)\n",
        "y=train_iobp_df['PotentialFraud']"
      ]
    },
    {
      "cell_type": "markdown",
      "source": [
        "Shape of X and Y data"
      ],
      "metadata": {
        "id": "NobW6XcVFT8e"
      }
    },
    {
      "cell_type": "code",
      "execution_count": 5,
      "metadata": {
        "colab": {
          "base_uri": "https://localhost:8080/"
        },
        "id": "qDSoyMByZtIi",
        "outputId": "d0bba98e-ca8c-497f-e556-795a7d75cb10"
      },
      "outputs": [
        {
          "output_type": "execute_result",
          "data": {
            "text/plain": [
              "((5410, 299), pandas.core.frame.DataFrame, (5410,), pandas.core.series.Series)"
            ]
          },
          "metadata": {},
          "execution_count": 5
        }
      ],
      "source": [
        "X.shape, type(X), y.shape, type(y)\n"
      ]
    },
    {
      "cell_type": "code",
      "execution_count": 6,
      "metadata": {
        "colab": {
          "base_uri": "https://localhost:8080/",
          "height": 273
        },
        "id": "JONVQ7f4eZ9w",
        "outputId": "a14fe4a3-6aac-4e50-aa6e-397ec24fde83"
      },
      "outputs": [
        {
          "output_type": "execute_result",
          "data": {
            "text/plain": [
              "   InscClaimAmtReimbursed  DeductibleAmtPaid  RenalDiseaseIndicator  \\\n",
              "0                  104640             5340.0                      8   \n",
              "1                  605670            66286.0                     29   \n",
              "2                   52170              310.0                     23   \n",
              "3                  280910             3700.0                    259   \n",
              "4                   33710             3264.0                     11   \n",
              "\n",
              "   ChronicCond_Alzheimer  ChronicCond_Heartfailure  ChronicCond_KidneyDisease  \\\n",
              "0                     15                        19                         17   \n",
              "1                     56                        80                         64   \n",
              "2                     64                        88                         50   \n",
              "3                    426                       680                        507   \n",
              "4                     26                        40                         22   \n",
              "\n",
              "   ChronicCond_Cancer  ChronicCond_ObstrPulmonary  ChronicCond_Depression  \\\n",
              "0                   5                          10                       9   \n",
              "1                  10                          41                      54   \n",
              "2                  16                          41                      63   \n",
              "3                 165                         295                     485   \n",
              "4                  12                          16                      29   \n",
              "\n",
              "   ChronicCond_Diabetes  ...  \\\n",
              "0                    21  ...   \n",
              "1                   100  ...   \n",
              "2                   105  ...   \n",
              "3                   799  ...   \n",
              "4                    49  ...   \n",
              "\n",
              "   ClmCount_Provider_BeneID_ClmDiagnosisCode_9_ClmProcedureCode_3  \\\n",
              "0                                                0.0                \n",
              "1                                                0.0                \n",
              "2                                                0.0                \n",
              "3                                                0.0                \n",
              "4                                                0.0                \n",
              "\n",
              "   ClmCount_Provider_BeneID_ClmDiagnosisCode_10_ClmProcedureCode_1  \\\n",
              "0                                                0.0                 \n",
              "1                                                3.0                 \n",
              "2                                                0.0                 \n",
              "3                                                0.0                 \n",
              "4                                                0.0                 \n",
              "\n",
              "   ClmCount_Provider_BeneID_ClmDiagnosisCode_10_ClmProcedureCode_2  \\\n",
              "0                                                0.0                 \n",
              "1                                                1.0                 \n",
              "2                                                0.0                 \n",
              "3                                                0.0                 \n",
              "4                                                0.0                 \n",
              "\n",
              "   ClmCount_Provider_BeneID_ClmDiagnosisCode_10_ClmProcedureCode_3  Gender_1  \\\n",
              "0                                                0.0                       9   \n",
              "1                                                0.0                      54   \n",
              "2                                                0.0                      46   \n",
              "3                                                0.0                     511   \n",
              "4                                                0.0                      34   \n",
              "\n",
              "   Race_2  Race_3  Race_5  admitted_1  Is_Alive?_1  \n",
              "0       4       0       0           5            0  \n",
              "1      24       0       1          62            1  \n",
              "2      24       5       0           0            1  \n",
              "3     262      10       0           0            4  \n",
              "4      14       0       0           3            1  \n",
              "\n",
              "[5 rows x 299 columns]"
            ],
            "text/html": [
              "\n",
              "  <div id=\"df-f0f93094-6c28-4479-85bb-d6b6a6a03755\" class=\"colab-df-container\">\n",
              "    <div>\n",
              "<style scoped>\n",
              "    .dataframe tbody tr th:only-of-type {\n",
              "        vertical-align: middle;\n",
              "    }\n",
              "\n",
              "    .dataframe tbody tr th {\n",
              "        vertical-align: top;\n",
              "    }\n",
              "\n",
              "    .dataframe thead th {\n",
              "        text-align: right;\n",
              "    }\n",
              "</style>\n",
              "<table border=\"1\" class=\"dataframe\">\n",
              "  <thead>\n",
              "    <tr style=\"text-align: right;\">\n",
              "      <th></th>\n",
              "      <th>InscClaimAmtReimbursed</th>\n",
              "      <th>DeductibleAmtPaid</th>\n",
              "      <th>RenalDiseaseIndicator</th>\n",
              "      <th>ChronicCond_Alzheimer</th>\n",
              "      <th>ChronicCond_Heartfailure</th>\n",
              "      <th>ChronicCond_KidneyDisease</th>\n",
              "      <th>ChronicCond_Cancer</th>\n",
              "      <th>ChronicCond_ObstrPulmonary</th>\n",
              "      <th>ChronicCond_Depression</th>\n",
              "      <th>ChronicCond_Diabetes</th>\n",
              "      <th>...</th>\n",
              "      <th>ClmCount_Provider_BeneID_ClmDiagnosisCode_9_ClmProcedureCode_3</th>\n",
              "      <th>ClmCount_Provider_BeneID_ClmDiagnosisCode_10_ClmProcedureCode_1</th>\n",
              "      <th>ClmCount_Provider_BeneID_ClmDiagnosisCode_10_ClmProcedureCode_2</th>\n",
              "      <th>ClmCount_Provider_BeneID_ClmDiagnosisCode_10_ClmProcedureCode_3</th>\n",
              "      <th>Gender_1</th>\n",
              "      <th>Race_2</th>\n",
              "      <th>Race_3</th>\n",
              "      <th>Race_5</th>\n",
              "      <th>admitted_1</th>\n",
              "      <th>Is_Alive?_1</th>\n",
              "    </tr>\n",
              "  </thead>\n",
              "  <tbody>\n",
              "    <tr>\n",
              "      <th>0</th>\n",
              "      <td>104640</td>\n",
              "      <td>5340.0</td>\n",
              "      <td>8</td>\n",
              "      <td>15</td>\n",
              "      <td>19</td>\n",
              "      <td>17</td>\n",
              "      <td>5</td>\n",
              "      <td>10</td>\n",
              "      <td>9</td>\n",
              "      <td>21</td>\n",
              "      <td>...</td>\n",
              "      <td>0.0</td>\n",
              "      <td>0.0</td>\n",
              "      <td>0.0</td>\n",
              "      <td>0.0</td>\n",
              "      <td>9</td>\n",
              "      <td>4</td>\n",
              "      <td>0</td>\n",
              "      <td>0</td>\n",
              "      <td>5</td>\n",
              "      <td>0</td>\n",
              "    </tr>\n",
              "    <tr>\n",
              "      <th>1</th>\n",
              "      <td>605670</td>\n",
              "      <td>66286.0</td>\n",
              "      <td>29</td>\n",
              "      <td>56</td>\n",
              "      <td>80</td>\n",
              "      <td>64</td>\n",
              "      <td>10</td>\n",
              "      <td>41</td>\n",
              "      <td>54</td>\n",
              "      <td>100</td>\n",
              "      <td>...</td>\n",
              "      <td>0.0</td>\n",
              "      <td>3.0</td>\n",
              "      <td>1.0</td>\n",
              "      <td>0.0</td>\n",
              "      <td>54</td>\n",
              "      <td>24</td>\n",
              "      <td>0</td>\n",
              "      <td>1</td>\n",
              "      <td>62</td>\n",
              "      <td>1</td>\n",
              "    </tr>\n",
              "    <tr>\n",
              "      <th>2</th>\n",
              "      <td>52170</td>\n",
              "      <td>310.0</td>\n",
              "      <td>23</td>\n",
              "      <td>64</td>\n",
              "      <td>88</td>\n",
              "      <td>50</td>\n",
              "      <td>16</td>\n",
              "      <td>41</td>\n",
              "      <td>63</td>\n",
              "      <td>105</td>\n",
              "      <td>...</td>\n",
              "      <td>0.0</td>\n",
              "      <td>0.0</td>\n",
              "      <td>0.0</td>\n",
              "      <td>0.0</td>\n",
              "      <td>46</td>\n",
              "      <td>24</td>\n",
              "      <td>5</td>\n",
              "      <td>0</td>\n",
              "      <td>0</td>\n",
              "      <td>1</td>\n",
              "    </tr>\n",
              "    <tr>\n",
              "      <th>3</th>\n",
              "      <td>280910</td>\n",
              "      <td>3700.0</td>\n",
              "      <td>259</td>\n",
              "      <td>426</td>\n",
              "      <td>680</td>\n",
              "      <td>507</td>\n",
              "      <td>165</td>\n",
              "      <td>295</td>\n",
              "      <td>485</td>\n",
              "      <td>799</td>\n",
              "      <td>...</td>\n",
              "      <td>0.0</td>\n",
              "      <td>0.0</td>\n",
              "      <td>0.0</td>\n",
              "      <td>0.0</td>\n",
              "      <td>511</td>\n",
              "      <td>262</td>\n",
              "      <td>10</td>\n",
              "      <td>0</td>\n",
              "      <td>0</td>\n",
              "      <td>4</td>\n",
              "    </tr>\n",
              "    <tr>\n",
              "      <th>4</th>\n",
              "      <td>33710</td>\n",
              "      <td>3264.0</td>\n",
              "      <td>11</td>\n",
              "      <td>26</td>\n",
              "      <td>40</td>\n",
              "      <td>22</td>\n",
              "      <td>12</td>\n",
              "      <td>16</td>\n",
              "      <td>29</td>\n",
              "      <td>49</td>\n",
              "      <td>...</td>\n",
              "      <td>0.0</td>\n",
              "      <td>0.0</td>\n",
              "      <td>0.0</td>\n",
              "      <td>0.0</td>\n",
              "      <td>34</td>\n",
              "      <td>14</td>\n",
              "      <td>0</td>\n",
              "      <td>0</td>\n",
              "      <td>3</td>\n",
              "      <td>1</td>\n",
              "    </tr>\n",
              "  </tbody>\n",
              "</table>\n",
              "<p>5 rows × 299 columns</p>\n",
              "</div>\n",
              "    <div class=\"colab-df-buttons\">\n",
              "\n",
              "  <div class=\"colab-df-container\">\n",
              "    <button class=\"colab-df-convert\" onclick=\"convertToInteractive('df-f0f93094-6c28-4479-85bb-d6b6a6a03755')\"\n",
              "            title=\"Convert this dataframe to an interactive table.\"\n",
              "            style=\"display:none;\">\n",
              "\n",
              "  <svg xmlns=\"http://www.w3.org/2000/svg\" height=\"24px\" viewBox=\"0 -960 960 960\">\n",
              "    <path d=\"M120-120v-720h720v720H120Zm60-500h600v-160H180v160Zm220 220h160v-160H400v160Zm0 220h160v-160H400v160ZM180-400h160v-160H180v160Zm440 0h160v-160H620v160ZM180-180h160v-160H180v160Zm440 0h160v-160H620v160Z\"/>\n",
              "  </svg>\n",
              "    </button>\n",
              "\n",
              "  <style>\n",
              "    .colab-df-container {\n",
              "      display:flex;\n",
              "      gap: 12px;\n",
              "    }\n",
              "\n",
              "    .colab-df-convert {\n",
              "      background-color: #E8F0FE;\n",
              "      border: none;\n",
              "      border-radius: 50%;\n",
              "      cursor: pointer;\n",
              "      display: none;\n",
              "      fill: #1967D2;\n",
              "      height: 32px;\n",
              "      padding: 0 0 0 0;\n",
              "      width: 32px;\n",
              "    }\n",
              "\n",
              "    .colab-df-convert:hover {\n",
              "      background-color: #E2EBFA;\n",
              "      box-shadow: 0px 1px 2px rgba(60, 64, 67, 0.3), 0px 1px 3px 1px rgba(60, 64, 67, 0.15);\n",
              "      fill: #174EA6;\n",
              "    }\n",
              "\n",
              "    .colab-df-buttons div {\n",
              "      margin-bottom: 4px;\n",
              "    }\n",
              "\n",
              "    [theme=dark] .colab-df-convert {\n",
              "      background-color: #3B4455;\n",
              "      fill: #D2E3FC;\n",
              "    }\n",
              "\n",
              "    [theme=dark] .colab-df-convert:hover {\n",
              "      background-color: #434B5C;\n",
              "      box-shadow: 0px 1px 3px 1px rgba(0, 0, 0, 0.15);\n",
              "      filter: drop-shadow(0px 1px 2px rgba(0, 0, 0, 0.3));\n",
              "      fill: #FFFFFF;\n",
              "    }\n",
              "  </style>\n",
              "\n",
              "    <script>\n",
              "      const buttonEl =\n",
              "        document.querySelector('#df-f0f93094-6c28-4479-85bb-d6b6a6a03755 button.colab-df-convert');\n",
              "      buttonEl.style.display =\n",
              "        google.colab.kernel.accessAllowed ? 'block' : 'none';\n",
              "\n",
              "      async function convertToInteractive(key) {\n",
              "        const element = document.querySelector('#df-f0f93094-6c28-4479-85bb-d6b6a6a03755');\n",
              "        const dataTable =\n",
              "          await google.colab.kernel.invokeFunction('convertToInteractive',\n",
              "                                                    [key], {});\n",
              "        if (!dataTable) return;\n",
              "\n",
              "        const docLinkHtml = 'Like what you see? Visit the ' +\n",
              "          '<a target=\"_blank\" href=https://colab.research.google.com/notebooks/data_table.ipynb>data table notebook</a>'\n",
              "          + ' to learn more about interactive tables.';\n",
              "        element.innerHTML = '';\n",
              "        dataTable['output_type'] = 'display_data';\n",
              "        await google.colab.output.renderOutput(dataTable, element);\n",
              "        const docLink = document.createElement('div');\n",
              "        docLink.innerHTML = docLinkHtml;\n",
              "        element.appendChild(docLink);\n",
              "      }\n",
              "    </script>\n",
              "  </div>\n",
              "\n",
              "\n",
              "    <div id=\"df-162648b5-9659-4dd0-840d-57c375fd8f3e\">\n",
              "      <button class=\"colab-df-quickchart\" onclick=\"quickchart('df-162648b5-9659-4dd0-840d-57c375fd8f3e')\"\n",
              "                title=\"Suggest charts\"\n",
              "                style=\"display:none;\">\n",
              "\n",
              "<svg xmlns=\"http://www.w3.org/2000/svg\" height=\"24px\"viewBox=\"0 0 24 24\"\n",
              "     width=\"24px\">\n",
              "    <g>\n",
              "        <path d=\"M19 3H5c-1.1 0-2 .9-2 2v14c0 1.1.9 2 2 2h14c1.1 0 2-.9 2-2V5c0-1.1-.9-2-2-2zM9 17H7v-7h2v7zm4 0h-2V7h2v10zm4 0h-2v-4h2v4z\"/>\n",
              "    </g>\n",
              "</svg>\n",
              "      </button>\n",
              "\n",
              "<style>\n",
              "  .colab-df-quickchart {\n",
              "      --bg-color: #E8F0FE;\n",
              "      --fill-color: #1967D2;\n",
              "      --hover-bg-color: #E2EBFA;\n",
              "      --hover-fill-color: #174EA6;\n",
              "      --disabled-fill-color: #AAA;\n",
              "      --disabled-bg-color: #DDD;\n",
              "  }\n",
              "\n",
              "  [theme=dark] .colab-df-quickchart {\n",
              "      --bg-color: #3B4455;\n",
              "      --fill-color: #D2E3FC;\n",
              "      --hover-bg-color: #434B5C;\n",
              "      --hover-fill-color: #FFFFFF;\n",
              "      --disabled-bg-color: #3B4455;\n",
              "      --disabled-fill-color: #666;\n",
              "  }\n",
              "\n",
              "  .colab-df-quickchart {\n",
              "    background-color: var(--bg-color);\n",
              "    border: none;\n",
              "    border-radius: 50%;\n",
              "    cursor: pointer;\n",
              "    display: none;\n",
              "    fill: var(--fill-color);\n",
              "    height: 32px;\n",
              "    padding: 0;\n",
              "    width: 32px;\n",
              "  }\n",
              "\n",
              "  .colab-df-quickchart:hover {\n",
              "    background-color: var(--hover-bg-color);\n",
              "    box-shadow: 0 1px 2px rgba(60, 64, 67, 0.3), 0 1px 3px 1px rgba(60, 64, 67, 0.15);\n",
              "    fill: var(--button-hover-fill-color);\n",
              "  }\n",
              "\n",
              "  .colab-df-quickchart-complete:disabled,\n",
              "  .colab-df-quickchart-complete:disabled:hover {\n",
              "    background-color: var(--disabled-bg-color);\n",
              "    fill: var(--disabled-fill-color);\n",
              "    box-shadow: none;\n",
              "  }\n",
              "\n",
              "  .colab-df-spinner {\n",
              "    border: 2px solid var(--fill-color);\n",
              "    border-color: transparent;\n",
              "    border-bottom-color: var(--fill-color);\n",
              "    animation:\n",
              "      spin 1s steps(1) infinite;\n",
              "  }\n",
              "\n",
              "  @keyframes spin {\n",
              "    0% {\n",
              "      border-color: transparent;\n",
              "      border-bottom-color: var(--fill-color);\n",
              "      border-left-color: var(--fill-color);\n",
              "    }\n",
              "    20% {\n",
              "      border-color: transparent;\n",
              "      border-left-color: var(--fill-color);\n",
              "      border-top-color: var(--fill-color);\n",
              "    }\n",
              "    30% {\n",
              "      border-color: transparent;\n",
              "      border-left-color: var(--fill-color);\n",
              "      border-top-color: var(--fill-color);\n",
              "      border-right-color: var(--fill-color);\n",
              "    }\n",
              "    40% {\n",
              "      border-color: transparent;\n",
              "      border-right-color: var(--fill-color);\n",
              "      border-top-color: var(--fill-color);\n",
              "    }\n",
              "    60% {\n",
              "      border-color: transparent;\n",
              "      border-right-color: var(--fill-color);\n",
              "    }\n",
              "    80% {\n",
              "      border-color: transparent;\n",
              "      border-right-color: var(--fill-color);\n",
              "      border-bottom-color: var(--fill-color);\n",
              "    }\n",
              "    90% {\n",
              "      border-color: transparent;\n",
              "      border-bottom-color: var(--fill-color);\n",
              "    }\n",
              "  }\n",
              "</style>\n",
              "\n",
              "      <script>\n",
              "        async function quickchart(key) {\n",
              "          const quickchartButtonEl =\n",
              "            document.querySelector('#' + key + ' button');\n",
              "          quickchartButtonEl.disabled = true;  // To prevent multiple clicks.\n",
              "          quickchartButtonEl.classList.add('colab-df-spinner');\n",
              "          try {\n",
              "            const charts = await google.colab.kernel.invokeFunction(\n",
              "                'suggestCharts', [key], {});\n",
              "          } catch (error) {\n",
              "            console.error('Error during call to suggestCharts:', error);\n",
              "          }\n",
              "          quickchartButtonEl.classList.remove('colab-df-spinner');\n",
              "          quickchartButtonEl.classList.add('colab-df-quickchart-complete');\n",
              "        }\n",
              "        (() => {\n",
              "          let quickchartButtonEl =\n",
              "            document.querySelector('#df-162648b5-9659-4dd0-840d-57c375fd8f3e button');\n",
              "          quickchartButtonEl.style.display =\n",
              "            google.colab.kernel.accessAllowed ? 'block' : 'none';\n",
              "        })();\n",
              "      </script>\n",
              "    </div>\n",
              "\n",
              "    </div>\n",
              "  </div>\n"
            ],
            "application/vnd.google.colaboratory.intrinsic+json": {
              "type": "dataframe",
              "variable_name": "X"
            }
          },
          "metadata": {},
          "execution_count": 6
        }
      ],
      "source": [
        "X.head()"
      ]
    },
    {
      "cell_type": "code",
      "execution_count": 7,
      "metadata": {
        "colab": {
          "base_uri": "https://localhost:8080/",
          "height": 241
        },
        "id": "AR0ZA4zPev-X",
        "outputId": "21474452-dab4-473a-c2cd-1bce5a5bcde2"
      },
      "outputs": [
        {
          "output_type": "execute_result",
          "data": {
            "text/plain": [
              "0    0\n",
              "1    1\n",
              "2    0\n",
              "3    1\n",
              "4    0\n",
              "Name: PotentialFraud, dtype: int64"
            ],
            "text/html": [
              "<div>\n",
              "<style scoped>\n",
              "    .dataframe tbody tr th:only-of-type {\n",
              "        vertical-align: middle;\n",
              "    }\n",
              "\n",
              "    .dataframe tbody tr th {\n",
              "        vertical-align: top;\n",
              "    }\n",
              "\n",
              "    .dataframe thead th {\n",
              "        text-align: right;\n",
              "    }\n",
              "</style>\n",
              "<table border=\"1\" class=\"dataframe\">\n",
              "  <thead>\n",
              "    <tr style=\"text-align: right;\">\n",
              "      <th></th>\n",
              "      <th>PotentialFraud</th>\n",
              "    </tr>\n",
              "  </thead>\n",
              "  <tbody>\n",
              "    <tr>\n",
              "      <th>0</th>\n",
              "      <td>0</td>\n",
              "    </tr>\n",
              "    <tr>\n",
              "      <th>1</th>\n",
              "      <td>1</td>\n",
              "    </tr>\n",
              "    <tr>\n",
              "      <th>2</th>\n",
              "      <td>0</td>\n",
              "    </tr>\n",
              "    <tr>\n",
              "      <th>3</th>\n",
              "      <td>1</td>\n",
              "    </tr>\n",
              "    <tr>\n",
              "      <th>4</th>\n",
              "      <td>0</td>\n",
              "    </tr>\n",
              "  </tbody>\n",
              "</table>\n",
              "</div><br><label><b>dtype:</b> int64</label>"
            ]
          },
          "metadata": {},
          "execution_count": 7
        }
      ],
      "source": [
        "y.head()"
      ]
    },
    {
      "cell_type": "code",
      "execution_count": 8,
      "metadata": {
        "id": "eAG-6_g4fKOU"
      },
      "outputs": [],
      "source": [
        "from sklearn.model_selection import train_test_split as tts\n",
        "X_train, X_test, y_train, y_test = tts(X, y, test_size=0.20, stratify=y, random_state=40)"
      ]
    },
    {
      "cell_type": "code",
      "execution_count": 9,
      "metadata": {
        "colab": {
          "base_uri": "https://localhost:8080/"
        },
        "id": "cJB_jkn5fRzI",
        "outputId": "053cba12-4aee-4666-d1b6-4f5400103a67"
      },
      "outputs": [
        {
          "output_type": "execute_result",
          "data": {
            "text/plain": [
              "((4328, 299), (1082, 299), (4328,), (1082,))"
            ]
          },
          "metadata": {},
          "execution_count": 9
        }
      ],
      "source": [
        "#shape of each dataset\n",
        "X_train.shape, X_test.shape, y_train.shape, y_test.shape"
      ]
    },
    {
      "cell_type": "code",
      "execution_count": 10,
      "metadata": {
        "colab": {
          "base_uri": "https://localhost:8080/",
          "height": 178
        },
        "id": "mYreD_brfbiI",
        "outputId": "bb83944e-b115-4eeb-a4b6-aae93529f7d7"
      },
      "outputs": [
        {
          "output_type": "execute_result",
          "data": {
            "text/plain": [
              "PotentialFraud\n",
              "0    90.642329\n",
              "1     9.357671\n",
              "Name: count, dtype: float64"
            ],
            "text/html": [
              "<div>\n",
              "<style scoped>\n",
              "    .dataframe tbody tr th:only-of-type {\n",
              "        vertical-align: middle;\n",
              "    }\n",
              "\n",
              "    .dataframe tbody tr th {\n",
              "        vertical-align: top;\n",
              "    }\n",
              "\n",
              "    .dataframe thead th {\n",
              "        text-align: right;\n",
              "    }\n",
              "</style>\n",
              "<table border=\"1\" class=\"dataframe\">\n",
              "  <thead>\n",
              "    <tr style=\"text-align: right;\">\n",
              "      <th></th>\n",
              "      <th>count</th>\n",
              "    </tr>\n",
              "    <tr>\n",
              "      <th>PotentialFraud</th>\n",
              "      <th></th>\n",
              "    </tr>\n",
              "  </thead>\n",
              "  <tbody>\n",
              "    <tr>\n",
              "      <th>0</th>\n",
              "      <td>90.642329</td>\n",
              "    </tr>\n",
              "    <tr>\n",
              "      <th>1</th>\n",
              "      <td>9.357671</td>\n",
              "    </tr>\n",
              "  </tbody>\n",
              "</table>\n",
              "</div><br><label><b>dtype:</b> float64</label>"
            ]
          },
          "metadata": {},
          "execution_count": 10
        }
      ],
      "source": [
        "# Checking count of tgt labels in y_train\n",
        "y_train.value_counts()/len(y_train)*100"
      ]
    },
    {
      "cell_type": "code",
      "execution_count": 11,
      "metadata": {
        "colab": {
          "base_uri": "https://localhost:8080/",
          "height": 178
        },
        "id": "pICOHZqlfgUN",
        "outputId": "e9ddc6eb-2c80-429c-f0af-a163a210023e"
      },
      "outputs": [
        {
          "output_type": "execute_result",
          "data": {
            "text/plain": [
              "PotentialFraud\n",
              "0    981\n",
              "1    101\n",
              "Name: count, dtype: int64"
            ],
            "text/html": [
              "<div>\n",
              "<style scoped>\n",
              "    .dataframe tbody tr th:only-of-type {\n",
              "        vertical-align: middle;\n",
              "    }\n",
              "\n",
              "    .dataframe tbody tr th {\n",
              "        vertical-align: top;\n",
              "    }\n",
              "\n",
              "    .dataframe thead th {\n",
              "        text-align: right;\n",
              "    }\n",
              "</style>\n",
              "<table border=\"1\" class=\"dataframe\">\n",
              "  <thead>\n",
              "    <tr style=\"text-align: right;\">\n",
              "      <th></th>\n",
              "      <th>count</th>\n",
              "    </tr>\n",
              "    <tr>\n",
              "      <th>PotentialFraud</th>\n",
              "      <th></th>\n",
              "    </tr>\n",
              "  </thead>\n",
              "  <tbody>\n",
              "    <tr>\n",
              "      <th>0</th>\n",
              "      <td>981</td>\n",
              "    </tr>\n",
              "    <tr>\n",
              "      <th>1</th>\n",
              "      <td>101</td>\n",
              "    </tr>\n",
              "  </tbody>\n",
              "</table>\n",
              "</div><br><label><b>dtype:</b> int64</label>"
            ]
          },
          "metadata": {},
          "execution_count": 11
        }
      ],
      "source": [
        "# Checking count of tgt labels in y_test\n",
        "y_test.value_counts()"
      ]
    },
    {
      "cell_type": "code",
      "execution_count": 12,
      "metadata": {
        "id": "OHJb_CaVfoTs"
      },
      "outputs": [],
      "source": [
        "#Standardization the train and text dataset\n",
        "from sklearn.preprocessing import StandardScaler\n",
        "scaler=StandardScaler()\n",
        "X_train_scaled=scaler.fit_transform(X_train)\n",
        "X_test_scaled=scaler.transform(X_test)"
      ]
    },
    {
      "cell_type": "code",
      "execution_count": 13,
      "metadata": {
        "id": "nVQ4aLFRp9yb"
      },
      "outputs": [],
      "source": [
        "from sklearn.ensemble import RandomForestClassifier\n",
        "from sklearn.metrics import accuracy_score,confusion_matrix,classification_report,  f1_score, precision_score, recall_score, roc_curve, auc\n",
        "from sklearn.model_selection import cross_val_score"
      ]
    },
    {
      "cell_type": "markdown",
      "source": [
        "#Random Forest"
      ],
      "metadata": {
        "id": "jDAWAAJgiXd2"
      }
    },
    {
      "cell_type": "code",
      "source": [
        "model_rf=RandomForestClassifier(n_estimators= 170, max_depth= 13, min_samples_split= 7, min_samples_leaf= 17, criterion= 'entropy')\n",
        "score_rf=cross_val_score(model_rf,X_train_scaled,y_train,cv=5).mean()\n",
        "score_rf\n"
      ],
      "metadata": {
        "colab": {
          "base_uri": "https://localhost:8080/"
        },
        "id": "ZDDNOLGJ-JF-",
        "outputId": "e9a06f21-78d0-4408-abf4-9c0fddf287ae"
      },
      "execution_count": 14,
      "outputs": [
        {
          "output_type": "execute_result",
          "data": {
            "text/plain": [
              "np.float64(0.9292971472052758)"
            ]
          },
          "metadata": {},
          "execution_count": 14
        }
      ]
    },
    {
      "cell_type": "code",
      "source": [
        "# Fit the model on the training data and make predictions\n",
        "model_rf.fit(X_train_scaled, y_train)\n",
        "y_pred_rf = model_rf.predict(X_test_scaled)\n",
        "\n",
        "print(\"Random Forest Classifier Metrics:\")\n",
        "print(f\"Accuracy: {accuracy_score(y_test, y_pred_rf)}\")\n",
        "print(f'F1 Score: {f1_score(y_test, y_pred_rf)}')\n",
        "print(f'Recall: {recall_score(y_test, y_pred_rf)}')\n",
        "print(f'Precision: {precision_score(y_test, y_pred_rf)}')\n",
        "print(\"\\nClassification Report:\\n\", classification_report(y_test, y_pred_rf))\n",
        "print(\"\\nConfusion Matrix:\\n\", confusion_matrix(y_test, y_pred_rf))"
      ],
      "metadata": {
        "colab": {
          "base_uri": "https://localhost:8080/"
        },
        "id": "ZMuznVXj_ozA",
        "outputId": "dfa540f4-3b67-4989-cec5-ce0a67918d94"
      },
      "execution_count": 15,
      "outputs": [
        {
          "output_type": "stream",
          "name": "stdout",
          "text": [
            "Random Forest Classifier Metrics:\n",
            "Accuracy: 0.9390018484288355\n",
            "F1 Score: 0.5822784810126582\n",
            "Recall: 0.45544554455445546\n",
            "Precision: 0.8070175438596491\n",
            "\n",
            "Classification Report:\n",
            "               precision    recall  f1-score   support\n",
            "\n",
            "           0       0.95      0.99      0.97       981\n",
            "           1       0.81      0.46      0.58       101\n",
            "\n",
            "    accuracy                           0.94      1082\n",
            "   macro avg       0.88      0.72      0.77      1082\n",
            "weighted avg       0.93      0.94      0.93      1082\n",
            "\n",
            "\n",
            "Confusion Matrix:\n",
            " [[970  11]\n",
            " [ 55  46]]\n"
          ]
        }
      ]
    },
    {
      "cell_type": "code",
      "source": [
        "from sklearn.metrics import roc_curve, auc\n",
        "import matplotlib.pyplot as plt\n",
        "\n",
        "# Get probability predictions for the positive class\n",
        "y_train_pred_proba_rf = model_rf.predict_proba(X_train_scaled)[:, 1]\n",
        "y_test_pred_proba_rf = model_rf.predict_proba(X_test_scaled)[:, 1]\n",
        "\n",
        "# Calculate ROC curve and AUC for training set\n",
        "fpr_train_rf, tpr_train_rf, thresholds_train_rf = roc_curve(y_train, y_train_pred_proba_rf)\n",
        "roc_auc_train_rf = auc(fpr_train_rf, tpr_train_rf)\n",
        "\n",
        "# Calculate ROC curve and AUC for testing set\n",
        "fpr_test_rf, tpr_test_rf, thresholds_test_rf = roc_curve(y_test, y_test_pred_proba_rf)\n",
        "roc_auc_test_rf = auc(fpr_test_rf, tpr_test_rf)\n",
        "\n",
        "# Plot ROC curves\n",
        "plt.figure(figsize=(8, 6))\n",
        "plt.plot(fpr_train_rf, tpr_train_rf, color='blue', lw=2, label='Train ROC curve (AUC = %0.4f)' % roc_auc_train_rf)\n",
        "plt.plot(fpr_test_rf, tpr_test_rf, color='red', lw=2, label='Test ROC curve (AUC = %0.4f)' % roc_auc_test_rf)\n",
        "plt.plot([0, 1], [0, 1], color='black', lw=2, linestyle='--')\n",
        "plt.xlim([0.0, 1.0])\n",
        "plt.ylim([0.0, 1.05])\n",
        "plt.xlabel('False Positive Rate')\n",
        "plt.ylabel('True Positive Rate')\n",
        "plt.title('Receiver Operating Characteristic (ROC) Curve- RandomForest')\n",
        "plt.legend(loc=\"lower right\")\n",
        "plt.show()"
      ],
      "metadata": {
        "colab": {
          "base_uri": "https://localhost:8080/",
          "height": 564
        },
        "id": "gLBiUGACAx1b",
        "outputId": "22da8a67-f132-40b0-b82f-ac54d5a30daf"
      },
      "execution_count": 16,
      "outputs": [
        {
          "output_type": "display_data",
          "data": {
            "text/plain": [
              "<Figure size 800x600 with 1 Axes>"
            ],
            "image/png": "[encoded data removed]"
          },
          "metadata": {}
        }
      ]
    },
    {
      "cell_type": "markdown",
      "source": [
        "# XGBoost Classifier"
      ],
      "metadata": {
        "id": "zrby04kHietA"
      }
    },
    {
      "cell_type": "code",
      "source": [
        "import xgboost\n",
        "from xgboost import XGBClassifier"
      ],
      "metadata": {
        "id": "5yj2JRDJjFjY"
      },
      "execution_count": 17,
      "outputs": []
    },
    {
      "cell_type": "code",
      "source": [
        "model_xgb=XGBClassifier(n_estimators= 720, max_depth= 16, min_child_weight= 22, learning_rate= 0.0275, reg_alpha= 0.4471, reg_lambda= 0.9697)\n",
        "score_xgb=cross_val_score(model_xgb,X_train_scaled,y_train,cv=5).mean()\n",
        "score_xgb"
      ],
      "metadata": {
        "colab": {
          "base_uri": "https://localhost:8080/"
        },
        "id": "7jeXTzDzBVys",
        "outputId": "92008e46-5c29-4e41-d7c8-08e7bea880d7"
      },
      "execution_count": 18,
      "outputs": [
        {
          "output_type": "execute_result",
          "data": {
            "text/plain": [
              "np.float64(0.9332269820715802)"
            ]
          },
          "metadata": {},
          "execution_count": 18
        }
      ]
    },
    {
      "cell_type": "code",
      "source": [
        "# Fit the model on the training data and make predictions\n",
        "model_xgb.fit(X_train_scaled, y_train)\n",
        "y_pred_xgb = model_xgb.predict(X_test_scaled)\n",
        "\n",
        "print(\"Random Forest Classifier Metrics:\")\n",
        "print(f\"Accuracy: {accuracy_score(y_test, y_pred_xgb)}\")\n",
        "print(f'F1 Score: {f1_score(y_test, y_pred_xgb)}')\n",
        "print(f'Recall: {recall_score(y_test, y_pred_xgb)}')\n",
        "print(f'Precision: {precision_score(y_test, y_pred_xgb)}')\n",
        "print(\"\\nClassification Report:\\n\", classification_report(y_test, y_pred_xgb))\n",
        "print(\"\\nConfusion Matrix:\\n\", confusion_matrix(y_test, y_pred_xgb))"
      ],
      "metadata": {
        "colab": {
          "base_uri": "https://localhost:8080/"
        },
        "id": "lJqgRmZlC8kA",
        "outputId": "4f524be8-4ab3-4ef2-9f39-52ed2dbc6466"
      },
      "execution_count": 19,
      "outputs": [
        {
          "output_type": "stream",
          "name": "stdout",
          "text": [
            "Random Forest Classifier Metrics:\n",
            "Accuracy: 0.933456561922366\n",
            "F1 Score: 0.5714285714285714\n",
            "Recall: 0.4752475247524752\n",
            "Precision: 0.7164179104477612\n",
            "\n",
            "Classification Report:\n",
            "               precision    recall  f1-score   support\n",
            "\n",
            "           0       0.95      0.98      0.96       981\n",
            "           1       0.72      0.48      0.57       101\n",
            "\n",
            "    accuracy                           0.93      1082\n",
            "   macro avg       0.83      0.73      0.77      1082\n",
            "weighted avg       0.93      0.93      0.93      1082\n",
            "\n",
            "\n",
            "Confusion Matrix:\n",
            " [[962  19]\n",
            " [ 53  48]]\n"
          ]
        }
      ]
    },
    {
      "cell_type": "code",
      "source": [
        "from sklearn.metrics import roc_curve, auc\n",
        "import matplotlib.pyplot as plt\n",
        "## Get probability predictions for the positive class\n",
        "y_train_pred_proba_xgb = model_xgb.predict_proba(X_train_scaled)[:, 1]\n",
        "y_test_pred_proba_xgb = model_xgb.predict_proba(X_test_scaled)[:, 1]\n",
        "# Calculate ROC curve and AUC for training set\n",
        "fpr_train_xgb, tpr_train_xgb, thresholds_train_xgb = roc_curve(y_train, y_train_pred_proba_rf)\n",
        "roc_auc_train_xgb = auc(fpr_train_xgb, tpr_train_xgb)\n",
        "\n",
        "# Calculate ROC curve and AUC for testing set\n",
        "fpr_test_xgb, tpr_test_xgb, thresholds_test_xgb = roc_curve(y_test, y_test_pred_proba_xgb)\n",
        "roc_auc_test_xgb = auc(fpr_test_xgb, tpr_test_xgb)\n",
        "\n",
        "# Plot ROC curves\n",
        "plt.figure(figsize=(8, 6))\n",
        "plt.plot(fpr_train_xgb, tpr_train_xgb, color='blue', lw=2, label='Train ROC curve (AUC = %0.4f)' % roc_auc_train_xgb)\n",
        "plt.plot(fpr_test_xgb, tpr_test_xgb, color='red', lw=2, label='Test ROC curve (AUC = %0.4f)' % roc_auc_test_xgb)\n",
        "plt.plot([0, 1], [0, 1], color='black', lw=2, linestyle='--')\n",
        "plt.xlim([0.0, 1.0])\n",
        "plt.ylim([0.0, 1.05])\n",
        "plt.xlabel('False Positive Rate')\n",
        "plt.ylabel('True Positive Rate')\n",
        "plt.title('Receiver Operating Characteristic (ROC) Curve- XGBoost')\n",
        "plt.legend(loc=\"lower right\")\n",
        "plt.show()"
      ],
      "metadata": {
        "colab": {
          "base_uri": "https://localhost:8080/",
          "height": 564
        },
        "id": "DzZUdAHVB8sd",
        "outputId": "adf05ea3-c928-4933-c2d4-7adfd36f97fb"
      },
      "execution_count": 20,
      "outputs": [
        {
          "output_type": "display_data",
          "data": {
            "text/plain": [
              "<Figure size 800x600 with 1 Axes>"
            ],
            "image/png": "[encoded data removed]"
          },
          "metadata": {}
        }
      ]
    },
    {
      "cell_type": "markdown",
      "source": [
        "Using Minority Synthetic Oversampling"
      ],
      "metadata": {
        "id": "0F3jB8gr7JeR"
      }
    },
    {
      "cell_type": "code",
      "source": [
        "#performance minorit oversampling\n",
        "from imblearn.over_sampling import SMOTE\n",
        "smote=SMOTE(random_state=40)\n",
        "X_train_smote,y_train_smote=smote.fit_resample(X_train_scaled,y_train)"
      ],
      "metadata": {
        "id": "9X1aW4QL7IS5"
      },
      "execution_count": 21,
      "outputs": []
    },
    {
      "cell_type": "code",
      "source": [
        "X_train_smote.shape, y_train_smote.shape\n",
        "#"
      ],
      "metadata": {
        "colab": {
          "base_uri": "https://localhost:8080/"
        },
        "id": "sbtSohN48v1D",
        "outputId": "b41d5424-950c-4a97-abdc-3829fb0c3432"
      },
      "execution_count": 22,
      "outputs": [
        {
          "output_type": "execute_result",
          "data": {
            "text/plain": [
              "((7846, 299), (7846,))"
            ]
          },
          "metadata": {},
          "execution_count": 22
        }
      ]
    },
    {
      "cell_type": "markdown",
      "source": [
        "RandomForest with Smote"
      ],
      "metadata": {
        "id": "sYoTAs1bn0cy"
      }
    },
    {
      "cell_type": "code",
      "source": [
        "  #model\n",
        "model_rf_smote =RandomForestClassifier(n_estimators= 250, max_depth= 9, min_samples_split= 17, min_samples_leaf= 7, criterion= 'entropy')\n",
        "\n",
        "#score\n",
        "score_rf_smote = cross_val_score(model_rf_smote,X_train_smote,y_train_smote,cv=5).mean()\n",
        "score_rf_smote"
      ],
      "metadata": {
        "id": "d8bbYnOO9F7B",
        "colab": {
          "base_uri": "https://localhost:8080/"
        },
        "outputId": "3029296a-5ac6-444d-f941-0bbc2e09f16c"
      },
      "execution_count": 23,
      "outputs": [
        {
          "output_type": "execute_result",
          "data": {
            "text/plain": [
              "np.float64(0.9314322482168447)"
            ]
          },
          "metadata": {},
          "execution_count": 23
        }
      ]
    },
    {
      "cell_type": "code",
      "source": [
        "# fit the model on test data\n",
        "model_rf_smote.fit(X_train_smote, y_train_smote)\n",
        "y_pred_rf_smote = model_rf_smote.predict(X_test_scaled)\n",
        "\n",
        "print(\"Random Forest Classifier Metrics (with SMOTE):\")\n",
        "print(f\"Accuracy: {accuracy_score(y_test, y_pred_rf_smote)}\")\n",
        "print(f\"F1 Score: {f1_score(y_test, y_pred_rf_smote)}\")\n",
        "print(f\"Recall: {recall_score(y_test, y_pred_rf_smote)}\")\n",
        "print(f\"Precision: {precision_score(y_test, y_pred_rf_smote)}\")\n",
        "print(\"\\nClassification Report:\\n\", classification_report(y_test, y_pred_rf_smote))\n",
        "print(\"\\nConfusion Matrix:\\n\", confusion_matrix(y_test, y_pred_rf_smote))\n"
      ],
      "metadata": {
        "colab": {
          "base_uri": "https://localhost:8080/"
        },
        "id": "yWQSsoeQEZQq",
        "outputId": "e44c9723-3356-4ac4-c9ee-3ca2ae960786"
      },
      "execution_count": 24,
      "outputs": [
        {
          "output_type": "stream",
          "name": "stdout",
          "text": [
            "Random Forest Classifier Metrics (with SMOTE):\n",
            "Accuracy: 0.9029574861367837\n",
            "F1 Score: 0.6153846153846154\n",
            "Recall: 0.8316831683168316\n",
            "Precision: 0.4883720930232558\n",
            "\n",
            "Classification Report:\n",
            "               precision    recall  f1-score   support\n",
            "\n",
            "           0       0.98      0.91      0.94       981\n",
            "           1       0.49      0.83      0.62       101\n",
            "\n",
            "    accuracy                           0.90      1082\n",
            "   macro avg       0.73      0.87      0.78      1082\n",
            "weighted avg       0.94      0.90      0.91      1082\n",
            "\n",
            "\n",
            "Confusion Matrix:\n",
            " [[893  88]\n",
            " [ 17  84]]\n"
          ]
        }
      ]
    },
    {
      "cell_type": "code",
      "source": [
        "from sklearn.metrics import roc_curve, auc\n",
        "import matplotlib.pyplot as plt\n",
        "\n",
        "# Get probability predictions for the positive class\n",
        "y_train_pred_proba_rf_smote = model_rf_smote.predict_proba(X_train_smote)[:, 1]\n",
        "y_test_pred_proba_rf_smote = model_rf_smote.predict_proba(X_test_scaled)[:, 1]\n",
        "\n",
        "# Calculate ROC curve and AUC for training set\n",
        "fpr_train_rf_smote, tpr_train_rf_smote, thresholds_train_rf_smote = roc_curve(y_train_smote, y_train_pred_proba_rf_smote)\n",
        "roc_auc_train_rf_smote = auc(fpr_train_rf_smote, tpr_train_rf_smote)\n",
        "\n",
        "# Calculate ROC curve and AUC for testing set\n",
        "fpr_test_rf_smote, tpr_test_rf_smote, thresholds_test_rf_smote = roc_curve(y_test, y_test_pred_proba_rf_smote)\n",
        "roc_auc_test_rf_smote = auc(fpr_test_rf_smote, tpr_test_rf_smote)\n",
        "\n",
        "# Plot ROC curves\n",
        "plt.figure(figsize=(8, 6))\n",
        "plt.plot(fpr_train_rf_smote, tpr_train_rf_smote, color='blue', lw=2, label='Train ROC curve (AUC = %0.4f)' % roc_auc_train_rf_smote)\n",
        "plt.plot(fpr_test_rf_smote, tpr_test_rf_smote, color='red', lw=2, label='Test ROC curve (AUC = %0.4f)' % roc_auc_test_rf_smote)\n",
        "plt.plot([0, 1], [0, 1], color='black', lw=2, linestyle='--')\n",
        "plt.xlim([0.0, 1.0])\n",
        "plt.ylim([0.0, 1.05])\n",
        "plt.xlabel('False Positive Rate')\n",
        "plt.ylabel('True Positive Rate')\n",
        "plt.title('Receiver Operating Characteristic (ROC) Curve- RandomForest with SMOTE')\n",
        "plt.legend(loc=\"lower right\")\n",
        "plt.show()"
      ],
      "metadata": {
        "id": "QOAs0Z3ax6zG",
        "colab": {
          "base_uri": "https://localhost:8080/",
          "height": 564
        },
        "outputId": "1099a30c-40c4-49f0-bea0-e1f92ad7e22a"
      },
      "execution_count": 25,
      "outputs": [
        {
          "output_type": "display_data",
          "data": {
            "text/plain": [
              "<Figure size 800x600 with 1 Axes>"
            ],
            "image/png": "[encoded data removed]"
          },
          "metadata": {}
        }
      ]
    },
    {
      "cell_type": "markdown",
      "source": [
        "XGBoost classifier with SMOTE"
      ],
      "metadata": {
        "id": "aD9SO36ZwfuS"
      }
    },
    {
      "cell_type": "code",
      "source": [
        " #model\n",
        "model_xgb_smote=XGBClassifier(n_estimators=880,\n",
        "                      max_depth=23,\n",
        "                      min_child_weight=2,\n",
        "                      learning_rate=0.4818,\n",
        "                      reg_alpha=0.2497,\n",
        "                      reg_lambda=0.6337)\n",
        "#score\n",
        "score_xgb_smote = cross_val_score(model_xgb_smote,X_train_smote,y_train_smote,cv=5).mean()\n",
        "score_xgb_smote\n",
        "#\n",
        ""
      ],
      "metadata": {
        "id": "R2wnD721w5JG",
        "colab": {
          "base_uri": "https://localhost:8080/"
        },
        "outputId": "6c573adc-66ea-4953-abe2-9c114897816f"
      },
      "execution_count": 26,
      "outputs": [
        {
          "output_type": "execute_result",
          "data": {
            "text/plain": [
              "np.float64(0.9603703117324922)"
            ]
          },
          "metadata": {},
          "execution_count": 26
        }
      ]
    },
    {
      "cell_type": "code",
      "source": [
        "# Evaluate the best XGBoost model trained on oversampled data\n",
        "model_xgb_smote.fit(X_train_smote, y_train_smote)\n",
        "y_pred_xgb_smote = model_xgb_smote.predict(X_test_scaled)\n",
        "\n",
        "print(\"XGBoost Classifier Metrics (with SMOTE):\")\n",
        "print(f\"Accuracy: {accuracy_score(y_test, y_pred_xgb_smote)}\")\n",
        "print(f\"F1 Score: {f1_score(y_test, y_pred_xgb_smote)}\")\n",
        "print(f\"Recall: {recall_score(y_test, y_pred_xgb_smote)}\")\n",
        "print(f\"Precision: {precision_score(y_test, y_pred_xgb_smote)}\")\n",
        "print(\"\\nClassification Report:\\n\", classification_report(y_test, y_pred_xgb_smote))\n",
        "print(\"\\nConfusion Matrix:\\n\", confusion_matrix(y_test, y_pred_xgb_smote))"
      ],
      "metadata": {
        "colab": {
          "base_uri": "https://localhost:8080/"
        },
        "id": "dYu2hrx4Ixob",
        "outputId": "9c24918d-0254-4bdc-a96c-34e667e89a16"
      },
      "execution_count": 27,
      "outputs": [
        {
          "output_type": "stream",
          "name": "stdout",
          "text": [
            "XGBoost Classifier Metrics (with SMOTE):\n",
            "Accuracy: 0.9297597042513863\n",
            "F1 Score: 0.5824175824175825\n",
            "Recall: 0.5247524752475248\n",
            "Precision: 0.654320987654321\n",
            "\n",
            "Classification Report:\n",
            "               precision    recall  f1-score   support\n",
            "\n",
            "           0       0.95      0.97      0.96       981\n",
            "           1       0.65      0.52      0.58       101\n",
            "\n",
            "    accuracy                           0.93      1082\n",
            "   macro avg       0.80      0.75      0.77      1082\n",
            "weighted avg       0.92      0.93      0.93      1082\n",
            "\n",
            "\n",
            "Confusion Matrix:\n",
            " [[953  28]\n",
            " [ 48  53]]\n"
          ]
        }
      ]
    },
    {
      "cell_type": "code",
      "source": [
        "from sklearn.metrics import roc_curve, auc\n",
        "import matplotlib.pyplot as plt\n",
        "## Get probability predictions for the positive class\n",
        "y_train_pred_proba_xgb_smote = model_xgb_smote.predict_proba(X_train_smote)[:, 1]\n",
        "y_test_pred_proba_xgb_smote = model_xgb_smote.predict_proba(X_test_scaled)[:, 1]\n",
        "# Calculate ROC curve and AUC for training set\n",
        "fpr_train_xgb_smote, tpr_train_xgb_smote, thresholds_train_xgb_smote = roc_curve(y_train_smote, y_train_pred_proba_xgb_smote)\n",
        "roc_auc_train_xgb_smote = auc(fpr_train_xgb_smote, tpr_train_xgb_smote)\n",
        "\n",
        "# Calculate ROC curve and AUC for testing set\n",
        "fpr_test_xgb_smote, tpr_test_xgb_smote, thresholds_test_xgb_smote = roc_curve(y_test, y_test_pred_proba_xgb_smote)\n",
        "roc_auc_test_xgb_smote = auc(fpr_test_xgb_smote, tpr_test_xgb_smote)\n",
        "\n",
        "# Plot ROC curves\n",
        "plt.figure(figsize=(8, 6))\n",
        "plt.plot(fpr_train_xgb_smote, tpr_train_xgb_smote, color='blue', lw=2, label='Train ROC curve (AUC = %0.4f)' % roc_auc_train_xgb_smote)\n",
        "plt.plot(fpr_test_xgb_smote, tpr_test_xgb_smote, color='red', lw=2, label='Test ROC curve (AUC = %0.4f)' % roc_auc_test_xgb_smote)\n",
        "plt.plot([0, 1], [0, 1], color='black', lw=2, linestyle='--')\n",
        "plt.xlim([0.0, 1.0])\n",
        "plt.ylim([0.0, 1.05])\n",
        "plt.xlabel('False Positive Rate')\n",
        "plt.ylabel('True Positive Rate')\n",
        "plt.title('Receiver Operating Characteristic (ROC) Curve- XGBoost with SMOTE')\n",
        "plt.legend(loc=\"lower right\")\n",
        "plt.show()"
      ],
      "metadata": {
        "colab": {
          "base_uri": "https://localhost:8080/",
          "height": 564
        },
        "id": "Bypk3y4zHoy4",
        "outputId": "abf59e44-8814-43df-d076-7c93d09929e4"
      },
      "execution_count": 28,
      "outputs": [
        {
          "output_type": "display_data",
          "data": {
            "text/plain": [
              "<Figure size 800x600 with 1 Axes>"
            ],
            "image/png": "[encoded data removed]"
          },
          "metadata": {}
        }
      ]
    }
  ],
  "metadata": {
    "colab": {
      "provenance": []
    },
    "kernelspec": {
      "display_name": "Python 3",
      "name": "python3"
    },
    "language_info": {
      "name": "python"
    }
  },
  "nbformat": 4,
  "nbformat_minor": 0
}